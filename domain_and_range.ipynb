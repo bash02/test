{
 "cells": [
  {
   "cell_type": "code",
   "execution_count": 1,
   "id": "261b0c57",
   "metadata": {},
   "outputs": [],
   "source": [
    "import matplotlib.pyplot as plt\n",
    "import numpy as np\n",
    "from sympy import Symbol, S, exp, log, pi, sqrt, sin, tan\n",
    "from sympy.sets import Interval\n",
    "from sympy.calculus.util import continuous_domain, function_range"
   ]
  },
  {
   "cell_type": "code",
   "execution_count": 2,
   "id": "f3f245d2",
   "metadata": {},
   "outputs": [],
   "source": [
    "x = Symbol('x')"
   ]
  },
  {
   "cell_type": "code",
   "execution_count": 3,
   "id": "e183a7ca",
   "metadata": {},
   "outputs": [],
   "source": [
    "#functions\n",
    "a = sqrt(1 - x**2)\n",
    "b = 1/x\n",
    "c = sqrt(x)\n",
    "d = sqrt(x**2 - 2)/x**2 - 1\n",
    "e = 4/x**2\n",
    "f = sqrt(x**2 - 1)\n",
    "g = 3*x - sqrt(4 - 3*x)\n",
    "h = sqrt(4 - x)\n",
    "i = 3*x/sqrt(1 - x**3)\n",
    "j = 1/(x + 2)\n",
    "k = i + j"
   ]
  },
  {
   "cell_type": "code",
   "execution_count": 4,
   "id": "f5c57a2a",
   "metadata": {},
   "outputs": [
    {
     "data": {
      "text/latex": [
       "$\\displaystyle \\left(-\\infty, - \\sqrt{2}\\right] \\cup \\left[\\sqrt{2}, \\infty\\right)$"
      ],
      "text/plain": [
       "Union(Interval(-oo, -sqrt(2)), Interval(sqrt(2), oo))"
      ]
     },
     "execution_count": 4,
     "metadata": {},
     "output_type": "execute_result"
    }
   ],
   "source": [
    "continuous_domain(d, x, S.Reals)"
   ]
  },
  {
   "cell_type": "code",
   "execution_count": 5,
   "id": "678a427e",
   "metadata": {},
   "outputs": [
    {
     "data": {
      "text/latex": [
       "$\\displaystyle \\left(-1, -1 + \\frac{\\sqrt{2}}{4}\\right]$"
      ],
      "text/plain": [
       "Interval.Lopen(-1, -1 + sqrt(2)/4)"
      ]
     },
     "execution_count": 5,
     "metadata": {},
     "output_type": "execute_result"
    }
   ],
   "source": [
    "function_range(d, x, S.Reals)"
   ]
  },
  {
   "cell_type": "code",
   "execution_count": null,
   "id": "29f306cd",
   "metadata": {},
   "outputs": [],
   "source": []
  }
 ],
 "metadata": {
  "kernelspec": {
   "display_name": "Python 3",
   "language": "python",
   "name": "python3"
  },
  "language_info": {
   "codemirror_mode": {
    "name": "ipython",
    "version": 3
   },
   "file_extension": ".py",
   "mimetype": "text/x-python",
   "name": "python",
   "nbconvert_exporter": "python",
   "pygments_lexer": "ipython3",
   "version": "3.8.8"
  }
 },
 "nbformat": 4,
 "nbformat_minor": 5
}
